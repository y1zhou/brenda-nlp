{
 "cells": [
  {
   "cell_type": "code",
   "execution_count": 1,
   "metadata": {
    "execution": {
     "iopub.execute_input": "2020-09-10T23:06:54.736382Z",
     "iopub.status.busy": "2020-09-10T23:06:54.736088Z",
     "iopub.status.idle": "2020-09-10T23:06:55.273705Z",
     "shell.execute_reply": "2020-09-10T23:06:55.272928Z",
     "shell.execute_reply.started": "2020-09-10T23:06:54.736310Z"
    }
   },
   "outputs": [],
   "source": [
    "import asyncio\n",
    "import tarfile\n",
    "from pathlib import Path\n",
    "\n",
    "import aioftp\n",
    "import pandas as pd\n",
    "import pubmed_parser as pp"
   ]
  },
  {
   "cell_type": "code",
   "execution_count": 2,
   "metadata": {
    "execution": {
     "iopub.execute_input": "2020-09-10T23:06:55.275268Z",
     "iopub.status.busy": "2020-09-10T23:06:55.275026Z",
     "iopub.status.idle": "2020-09-10T23:06:55.278867Z",
     "shell.execute_reply": "2020-09-10T23:06:55.278142Z",
     "shell.execute_reply.started": "2020-09-10T23:06:55.275237Z"
    }
   },
   "outputs": [],
   "source": [
    "WORK_DIR = Path(\"/home/yi/storage/data/thesis\")\n",
    "DOWNLOAD_DIR = WORK_DIR / \"PMC_OA\"\n",
    "BASE_URL = Path(\"/pub/pmc\")"
   ]
  },
  {
   "cell_type": "markdown",
   "metadata": {},
   "source": [
    "Read the `oa_file_list` file to get the file paths on the FTP server."
   ]
  },
  {
   "cell_type": "code",
   "execution_count": 3,
   "metadata": {
    "execution": {
     "iopub.execute_input": "2020-09-10T23:06:55.280869Z",
     "iopub.status.busy": "2020-09-10T23:06:55.280623Z",
     "iopub.status.idle": "2020-09-10T23:07:04.598692Z",
     "shell.execute_reply": "2020-09-10T23:07:04.597590Z",
     "shell.execute_reply.started": "2020-09-10T23:06:55.280839Z"
    }
   },
   "outputs": [],
   "source": [
    "pmc_oa = pd.read_table(\n",
    "    WORK_DIR / \"oa_file_list.txt\",\n",
    "    header=None,\n",
    "    names=[\"url\", \"Journal\", \"PMCID\", \"PMID\", \"License\"],\n",
    "    skiprows=1,\n",
    ")"
   ]
  },
  {
   "cell_type": "markdown",
   "metadata": {},
   "source": [
    "Use the pyruvate kinase ([2.7.1.40](https://www.brenda-enzymes.org/enzyme.php?ecno=2.7.1.40)) as an example."
   ]
  },
  {
   "cell_type": "code",
   "execution_count": 4,
   "metadata": {
    "execution": {
     "iopub.execute_input": "2020-09-10T23:07:04.600852Z",
     "iopub.status.busy": "2020-09-10T23:07:04.600594Z",
     "iopub.status.idle": "2020-09-10T23:07:04.947842Z",
     "shell.execute_reply": "2020-09-10T23:07:04.947004Z",
     "shell.execute_reply.started": "2020-09-10T23:07:04.600819Z"
    }
   },
   "outputs": [
    {
     "data": {
      "text/html": [
       "<div>\n",
       "<style scoped>\n",
       "    .dataframe tbody tr th:only-of-type {\n",
       "        vertical-align: middle;\n",
       "    }\n",
       "\n",
       "    .dataframe tbody tr th {\n",
       "        vertical-align: top;\n",
       "    }\n",
       "\n",
       "    .dataframe thead th {\n",
       "        text-align: right;\n",
       "    }\n",
       "</style>\n",
       "<table border=\"1\" class=\"dataframe\">\n",
       "  <thead>\n",
       "    <tr style=\"text-align: right;\">\n",
       "      <th></th>\n",
       "      <th>url</th>\n",
       "      <th>Journal</th>\n",
       "      <th>PMCID</th>\n",
       "      <th>PMID</th>\n",
       "    </tr>\n",
       "  </thead>\n",
       "  <tbody>\n",
       "    <tr>\n",
       "      <th>0</th>\n",
       "      <td>oa_package/e7/ac/PMC2322953.tar.gz</td>\n",
       "      <td>Microb Cell Fact. 2008 Mar 13; 7:8</td>\n",
       "      <td>PMC2322953</td>\n",
       "      <td>PMID:18339202</td>\n",
       "    </tr>\n",
       "    <tr>\n",
       "      <th>1</th>\n",
       "      <td>oa_package/94/4c/PMC2453015.tar.gz</td>\n",
       "      <td>Br J Cancer. 2008 Jul 8; 99(1):133-135</td>\n",
       "      <td>PMC2453015</td>\n",
       "      <td>PMID:18542075</td>\n",
       "    </tr>\n",
       "    <tr>\n",
       "      <th>2</th>\n",
       "      <td>oa_package/8d/e3/PMC2738901.tar.gz</td>\n",
       "      <td>Int J Mol Sci. 2009 Jun 29; 10(7):2896-2910</td>\n",
       "      <td>PMC2738901</td>\n",
       "      <td>PMID:19742174</td>\n",
       "    </tr>\n",
       "    <tr>\n",
       "      <th>3</th>\n",
       "      <td>oa_package/4c/02/PMC2749871.tar.gz</td>\n",
       "      <td>BMC Cancer. 2009 Sep 15; 9:327</td>\n",
       "      <td>PMC2749871</td>\n",
       "      <td>PMID:19754967</td>\n",
       "    </tr>\n",
       "    <tr>\n",
       "      <th>4</th>\n",
       "      <td>oa_package/81/4d/PMC2939071.tar.gz</td>\n",
       "      <td>PLoS One. 2010 Sep 14; 5(9):e12736</td>\n",
       "      <td>PMC2939071</td>\n",
       "      <td>PMID:20856875</td>\n",
       "    </tr>\n",
       "    <tr>\n",
       "      <th>5</th>\n",
       "      <td>oa_package/b8/0d/PMC3202625.tar.gz</td>\n",
       "      <td>Cell Metab. 2011 Sep 7; 14(3):415-427</td>\n",
       "      <td>PMC3202625</td>\n",
       "      <td>PMID:21907146</td>\n",
       "    </tr>\n",
       "    <tr>\n",
       "      <th>6</th>\n",
       "      <td>oa_package/23/1a/PMC3467265.tar.gz</td>\n",
       "      <td>PLoS One. 2012 Oct 9; 7(10):e46875</td>\n",
       "      <td>PMC3467265</td>\n",
       "      <td>PMID:23056503</td>\n",
       "    </tr>\n",
       "    <tr>\n",
       "      <th>7</th>\n",
       "      <td>oa_package/8f/6d/PMC3521201.tar.gz</td>\n",
       "      <td>Microb Cell Fact. 2012 Sep 13; 11:127</td>\n",
       "      <td>PMC3521201</td>\n",
       "      <td>PMID:22973998</td>\n",
       "    </tr>\n",
       "    <tr>\n",
       "      <th>8</th>\n",
       "      <td>oa_package/36/d3/PMC3738050.tar.gz</td>\n",
       "      <td>PLoS Comput Biol. 2013 Jul 25; 9(7):e1003159</td>\n",
       "      <td>PMC3738050</td>\n",
       "      <td>PMID:23946717</td>\n",
       "    </tr>\n",
       "    <tr>\n",
       "      <th>9</th>\n",
       "      <td>oa_package/12/34/PMC4374775.tar.gz</td>\n",
       "      <td>PLoS One. 2015 Mar 26; 10(3):e0119233</td>\n",
       "      <td>PMC4374775</td>\n",
       "      <td>PMID:25811853</td>\n",
       "    </tr>\n",
       "    <tr>\n",
       "      <th>10</th>\n",
       "      <td>oa_package/09/48/PMC4753445.tar.gz</td>\n",
       "      <td>Sci Rep. 2016 Feb 15; 6:21524</td>\n",
       "      <td>PMC4753445</td>\n",
       "      <td>PMID:26876154</td>\n",
       "    </tr>\n",
       "    <tr>\n",
       "      <th>11</th>\n",
       "      <td>oa_package/18/28/PMC4823786.tar.gz</td>\n",
       "      <td>Sci Rep. 2016 Apr 7; 6:24145</td>\n",
       "      <td>PMC4823786</td>\n",
       "      <td>PMID:27052099</td>\n",
       "    </tr>\n",
       "  </tbody>\n",
       "</table>\n",
       "</div>"
      ],
      "text/plain": [
       "                                   url  \\\n",
       "0   oa_package/e7/ac/PMC2322953.tar.gz   \n",
       "1   oa_package/94/4c/PMC2453015.tar.gz   \n",
       "2   oa_package/8d/e3/PMC2738901.tar.gz   \n",
       "3   oa_package/4c/02/PMC2749871.tar.gz   \n",
       "4   oa_package/81/4d/PMC2939071.tar.gz   \n",
       "5   oa_package/b8/0d/PMC3202625.tar.gz   \n",
       "6   oa_package/23/1a/PMC3467265.tar.gz   \n",
       "7   oa_package/8f/6d/PMC3521201.tar.gz   \n",
       "8   oa_package/36/d3/PMC3738050.tar.gz   \n",
       "9   oa_package/12/34/PMC4374775.tar.gz   \n",
       "10  oa_package/09/48/PMC4753445.tar.gz   \n",
       "11  oa_package/18/28/PMC4823786.tar.gz   \n",
       "\n",
       "                                         Journal       PMCID           PMID  \n",
       "0             Microb Cell Fact. 2008 Mar 13; 7:8  PMC2322953  PMID:18339202  \n",
       "1         Br J Cancer. 2008 Jul 8; 99(1):133-135  PMC2453015  PMID:18542075  \n",
       "2    Int J Mol Sci. 2009 Jun 29; 10(7):2896-2910  PMC2738901  PMID:19742174  \n",
       "3                 BMC Cancer. 2009 Sep 15; 9:327  PMC2749871  PMID:19754967  \n",
       "4             PLoS One. 2010 Sep 14; 5(9):e12736  PMC2939071  PMID:20856875  \n",
       "5          Cell Metab. 2011 Sep 7; 14(3):415-427  PMC3202625  PMID:21907146  \n",
       "6             PLoS One. 2012 Oct 9; 7(10):e46875  PMC3467265  PMID:23056503  \n",
       "7          Microb Cell Fact. 2012 Sep 13; 11:127  PMC3521201  PMID:22973998  \n",
       "8   PLoS Comput Biol. 2013 Jul 25; 9(7):e1003159  PMC3738050  PMID:23946717  \n",
       "9          PLoS One. 2015 Mar 26; 10(3):e0119233  PMC4374775  PMID:25811853  \n",
       "10                 Sci Rep. 2016 Feb 15; 6:21524  PMC4753445  PMID:26876154  \n",
       "11                  Sci Rep. 2016 Apr 7; 6:24145  PMC4823786  PMID:27052099  "
      ]
     },
     "execution_count": 4,
     "metadata": {},
     "output_type": "execute_result"
    }
   ],
   "source": [
    "pyruvate_kinase = \"3026343|1611667|1371328|1815584|1772447|1658780|2241987|2591636|2503406|2758802|3344004|3467680|3720293|3967491|6509936|6509916|7322190|6781948|7462968|7373271|3691955|902883|6784752|7115773|7073710|3970531|6468395|4062301|16661357|16666032|16667885|16663425|4196181|2916839|2563644|7436410|8003008|3058273|3611022|1511886|3711058|6614924|3297035|7054143|123821|6713301|6446967|5542944|468836|4214503|1099402|238944|10715009|10880971|9790887|9693062|11163314|7584599|7549104|8828288|10983413|11994161|12632162|11238975|8806784|11698298|7622484|11294847|12562754|9139918|11913971|9028035|10816124|8591049|6349612|12957530|15567170|15568816|15996096|15158165|12663089|12798948|12892763|12755692|15013784|12654928|15882428|16511150|16426231|16634623|17022686|17308100|17301655|17547515|16023820|17030033|16540430|15749828|16147999|17446165|16132715|16166049|17557808|16049677|17641091|9741972|18565772|18840520|18827347|17466543|18542075|17300971|18602015|17662887|19021757|18519040|18725273|18298799|18302288|17337233|18425820|18511452|18775437|17904346|18448125|18050275|19742174|19804861|19925858|18604458|18225557|19787348|19467627|20026031|19178476|20005212|19320443|19719244|19719323|19719322|19800933|19169653|17977029|19754967|19120353|18587448|19996282|18759866|17784868|18602720|19300275|19563799|18789933|19085939|18362474|18191611|18464261|19251844|19820096|18326043|19265196|19308990|18243718|18077199|19743919|20017496|19707861|18339202|19372549|19755962|18420493|18337815|18337823|20010808|18751889|19015045|18726918|18829984|18671919|18603432|22066782|11702074|22906073|20707314|21261284|23256782|23418858|23270483|20977946|21958545|22963766|23141418|22154083|21907146|22790415|20435056|20123988|23202749|22973998|23064226|21459167|20856875|23056503|22509023|23384479|20857498|23879743|8288525|25811853|24375447|26708302|23324382|23576436|23946717|25573389|26876154|27052099|26290635\"\n",
    "pyruvate_kinase = [f\"PMID:{x}\" for x in pyruvate_kinase.split(\"|\")]\n",
    "\n",
    "df = pmc_oa[pmc_oa[\"PMID\"].isin(pyruvate_kinase)].copy()\n",
    "df = df.drop(columns=[\"License\"])\n",
    "df = df.reset_index(drop=True)\n",
    "df"
   ]
  },
  {
   "cell_type": "markdown",
   "metadata": {},
   "source": [
    "Download the papers from NCBI's FTP server."
   ]
  },
  {
   "cell_type": "code",
   "execution_count": 5,
   "metadata": {
    "execution": {
     "iopub.execute_input": "2020-09-10T23:07:04.949182Z",
     "iopub.status.busy": "2020-09-10T23:07:04.948939Z",
     "iopub.status.idle": "2020-09-10T23:07:09.912889Z",
     "shell.execute_reply": "2020-09-10T23:07:09.911996Z",
     "shell.execute_reply.started": "2020-09-10T23:07:04.949151Z"
    }
   },
   "outputs": [],
   "source": [
    "async def get_paper(url):\n",
    "    url = Path(url)\n",
    "    save_path = DOWNLOAD_DIR / url.name\n",
    "    if not save_path.is_file():\n",
    "        async with aioftp.Client.context(\n",
    "            \"ftp.ncbi.nlm.nih.gov\", socket_timeout=5\n",
    "        ) as client:\n",
    "            await client.download(\n",
    "                BASE_URL / url, DOWNLOAD_DIR / url.name, write_into=True\n",
    "            )\n",
    "\n",
    "\n",
    "urls = df[\"url\"].tolist()\n",
    "tasks = [get_paper(url) for url in urls]\n",
    "\n",
    "DOWNLOAD_DIR.mkdir(exist_ok=True)\n",
    "# jupyter only; normally asyncio.run(asyncio.wait(tasks))\n",
    "dl_tasks, queue_tasks = await asyncio.wait(tasks)"
   ]
  },
  {
   "cell_type": "markdown",
   "metadata": {},
   "source": [
    "Extract papers in `nxml` format from the downloaded `tar.gz` zipfiles."
   ]
  },
  {
   "cell_type": "code",
   "execution_count": 6,
   "metadata": {
    "execution": {
     "iopub.execute_input": "2020-09-10T23:07:09.914145Z",
     "iopub.status.busy": "2020-09-10T23:07:09.913894Z",
     "iopub.status.idle": "2020-09-10T23:07:10.691620Z",
     "shell.execute_reply": "2020-09-10T23:07:10.690732Z",
     "shell.execute_reply.started": "2020-09-10T23:07:09.914114Z"
    }
   },
   "outputs": [],
   "source": [
    "dl_files = [DOWNLOAD_DIR / Path(x).name for x in urls]\n",
    "df[\"Tarfile\"] = \"\"\n",
    "\n",
    "for dl_file in dl_files:\n",
    "    pmcID = dl_file.name.split(\".\")[0]\n",
    "    with tarfile.open(dl_file, \"r\") as archive:\n",
    "        f = [x for x in archive.getnames() if Path(x).suffix == \".nxml\"][0]\n",
    "        df.loc[df[\"PMCID\"] == pmcID, \"Tarfile\"] = f\n",
    "        if not (DOWNLOAD_DIR / f).is_file():\n",
    "            archive.extract(f, DOWNLOAD_DIR)"
   ]
  },
  {
   "cell_type": "markdown",
   "metadata": {},
   "source": [
    "Extract title, abstract and full text from the xml files."
   ]
  },
  {
   "cell_type": "code",
   "execution_count": 7,
   "metadata": {
    "execution": {
     "iopub.execute_input": "2020-09-10T23:07:10.692890Z",
     "iopub.status.busy": "2020-09-10T23:07:10.692638Z",
     "iopub.status.idle": "2020-09-10T23:07:10.878105Z",
     "shell.execute_reply": "2020-09-10T23:07:10.877288Z",
     "shell.execute_reply.started": "2020-09-10T23:07:10.692858Z"
    }
   },
   "outputs": [],
   "source": [
    "xml_files = df[\"Tarfile\"].tolist()\n",
    "df[\"Title\"] = \"\"\n",
    "df[\"Abstract\"] = \"\"\n",
    "df[\"FullText\"] = \"\"\n",
    "\n",
    "for xml_file in xml_files:\n",
    "    # Title and abstract\n",
    "    pubmed_dict = pp.parse_pubmed_xml(str(DOWNLOAD_DIR / xml_file))\n",
    "    df.loc[df[\"Tarfile\"] == xml_file, \"Title\"] = pubmed_dict[\"full_title\"]\n",
    "    df.loc[df[\"Tarfile\"] == xml_file, \"Abstract\"] = pubmed_dict[\"abstract\"]\n",
    "\n",
    "    pubmed_p = pp.parse_pubmed_paragraph(\n",
    "        str(DOWNLOAD_DIR / xml_file), all_paragraph=True\n",
    "    )\n",
    "    df.loc[df[\"Tarfile\"] == xml_file, \"FullText\"] = \" \".join(\n",
    "        [f\"{x['section']} {x['text']}\" for x in pubmed_p]\n",
    "    )"
   ]
  },
  {
   "cell_type": "code",
   "execution_count": 8,
   "metadata": {
    "execution": {
     "iopub.execute_input": "2020-09-10T23:07:10.879316Z",
     "iopub.status.busy": "2020-09-10T23:07:10.879082Z",
     "iopub.status.idle": "2020-09-10T23:07:10.890627Z",
     "shell.execute_reply": "2020-09-10T23:07:10.889909Z",
     "shell.execute_reply.started": "2020-09-10T23:07:10.879287Z"
    }
   },
   "outputs": [],
   "source": [
    "df.to_pickle(DOWNLOAD_DIR / \"pyruvate_kinase.pkl\")"
   ]
  },
  {
   "cell_type": "markdown",
   "metadata": {},
   "source": [
    "Cleanup downloaded files."
   ]
  },
  {
   "cell_type": "code",
   "execution_count": 9,
   "metadata": {
    "execution": {
     "iopub.execute_input": "2020-09-10T23:07:10.891904Z",
     "iopub.status.busy": "2020-09-10T23:07:10.891669Z",
     "iopub.status.idle": "2020-09-10T23:07:11.021152Z",
     "shell.execute_reply": "2020-09-10T23:07:11.020421Z",
     "shell.execute_reply.started": "2020-09-10T23:07:10.891874Z"
    }
   },
   "outputs": [],
   "source": [
    "for dl_file in dl_files:\n",
    "    dl_file.unlink()\n",
    "\n",
    "for xml_file in xml_files:\n",
    "    (DOWNLOAD_DIR / xml_file).unlink()\n",
    "    (DOWNLOAD_DIR / xml_file).parent.rmdir()"
   ]
  }
 ],
 "metadata": {
  "kernelspec": {
   "display_name": "Python 3",
   "language": "python",
   "name": "python3"
  },
  "language_info": {
   "codemirror_mode": {
    "name": "ipython",
    "version": 3
   },
   "file_extension": ".py",
   "mimetype": "text/x-python",
   "name": "python",
   "nbconvert_exporter": "python",
   "pygments_lexer": "ipython3",
   "version": "3.8.3"
  }
 },
 "nbformat": 4,
 "nbformat_minor": 4
}
